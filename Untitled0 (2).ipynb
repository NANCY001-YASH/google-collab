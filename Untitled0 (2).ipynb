{
  "nbformat": 4,
  "nbformat_minor": 0,
  "metadata": {
    "colab": {
      "provenance": []
    },
    "kernelspec": {
      "name": "python3",
      "display_name": "Python 3"
    },
    "language_info": {
      "name": "python"
    }
  },
  "cells": [
    {
      "cell_type": "code",
      "execution_count": 1,
      "metadata": {
        "colab": {
          "base_uri": "https://localhost:8080/"
        },
        "id": "8mw-a3nPw29d",
        "outputId": "a8a8cad2-0938-463c-efa3-64b342f35191"
      },
      "outputs": [
        {
          "output_type": "stream",
          "name": "stdout",
          "text": [
            "HELLO,WORLD!\n"
          ]
        }
      ],
      "source": [
        "print(\"HELLO,WORLD!\")"
      ]
    },
    {
      "cell_type": "code",
      "source": [
        "a=5\n",
        "b=6.5\n",
        "# ADDITION\n",
        "c=a+b\n",
        "print(\"The sum of two number is\", c)"
      ],
      "metadata": {
        "colab": {
          "base_uri": "https://localhost:8080/"
        },
        "id": "EjD08d-CxFsV",
        "outputId": "9b57a967-4e23-403d-e934-47e757178fda"
      },
      "execution_count": 2,
      "outputs": [
        {
          "output_type": "stream",
          "name": "stdout",
          "text": [
            "The sum of two number is 11.5\n"
          ]
        }
      ]
    },
    {
      "cell_type": "code",
      "source": [
        "j=float(input(\"enter first number\"))\n",
        "k=float(input(\"enter second number\"))\n",
        "l=j*k\n",
        "print(\"The product of two numbers is\",l)"
      ],
      "metadata": {
        "colab": {
          "base_uri": "https://localhost:8080/"
        },
        "id": "0OY1_5kkxFp1",
        "outputId": "c9a29dff-7a92-4266-f766-998e36b0516f"
      },
      "execution_count": 3,
      "outputs": [
        {
          "output_type": "stream",
          "name": "stdout",
          "text": [
            "enter first number8565\n",
            "enter second number32156.52652\n",
            "The product of two numbers is 275420649.6438\n"
          ]
        }
      ]
    },
    {
      "cell_type": "code",
      "source": [],
      "metadata": {
        "id": "RL-eODnzxFm2"
      },
      "execution_count": null,
      "outputs": []
    },
    {
      "cell_type": "code",
      "source": [],
      "metadata": {
        "id": "Y25wCxtexFj9"
      },
      "execution_count": null,
      "outputs": []
    },
    {
      "cell_type": "code",
      "source": [],
      "metadata": {
        "id": "2yw8JhpDxFgO"
      },
      "execution_count": null,
      "outputs": []
    },
    {
      "cell_type": "code",
      "source": [],
      "metadata": {
        "id": "AdmTJ8nCxFdG"
      },
      "execution_count": null,
      "outputs": []
    },
    {
      "cell_type": "code",
      "source": [],
      "metadata": {
        "id": "RHGoljsCxFUF"
      },
      "execution_count": null,
      "outputs": []
    },
    {
      "cell_type": "code",
      "source": [],
      "metadata": {
        "id": "n8t_ChGCxEzt"
      },
      "execution_count": null,
      "outputs": []
    }
  ]
}